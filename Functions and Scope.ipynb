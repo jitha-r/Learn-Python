{
 "cells": [
  {
   "cell_type": "code",
   "execution_count": 1,
   "metadata": {},
   "outputs": [],
   "source": [
    "#USER DEFINED FUNCTIONS\n",
    "\n",
    "def multiply(a,b): #Function for the mutiplication of two parameters.\n",
    "    return a*b"
   ]
  },
  {
   "cell_type": "code",
   "execution_count": 2,
   "metadata": {},
   "outputs": [
    {
     "data": {
      "text/plain": [
       "6"
      ]
     },
     "execution_count": 2,
     "metadata": {},
     "output_type": "execute_result"
    }
   ],
   "source": [
    "multiply(2,3) #Multiply two integers"
   ]
  },
  {
   "cell_type": "code",
   "execution_count": 3,
   "metadata": {},
   "outputs": [
    {
     "data": {
      "text/plain": [
       "7.5"
      ]
     },
     "execution_count": 3,
     "metadata": {},
     "output_type": "execute_result"
    }
   ],
   "source": [
    "multiply(2.5,3) #Multiply an integer and a float"
   ]
  },
  {
   "cell_type": "code",
   "execution_count": 4,
   "metadata": {},
   "outputs": [
    {
     "data": {
      "text/plain": [
       "'Jingle Bells.. Jingle Bells.. '"
      ]
     },
     "execution_count": 4,
     "metadata": {},
     "output_type": "execute_result"
    }
   ],
   "source": [
    "multiply(2,\"Jingle Bells.. \")#Multiply an integer and string. \n",
    "# When multiplied by 2, string appears 2 times."
   ]
  },
  {
   "cell_type": "code",
   "execution_count": 5,
   "metadata": {},
   "outputs": [],
   "source": [
    "#Define an empty function\n",
    "def DoNothing():\n",
    "    pass #Python doesn't allow to define an empty body.So include the keyword 'pass'."
   ]
  },
  {
   "cell_type": "code",
   "execution_count": 6,
   "metadata": {},
   "outputs": [],
   "source": [
    "#VARIADIC PARAMETERS\n",
    "    #Variable number of elements are passed to a function\n",
    "def printNames(*Names):\n",
    "    for n in Names:\n",
    "        print(n)"
   ]
  },
  {
   "cell_type": "code",
   "execution_count": 7,
   "metadata": {},
   "outputs": [
    {
     "name": "stdout",
     "output_type": "stream",
     "text": [
      "Mike\n",
      "Jack\n",
      "Sack\n",
      "Mac\n"
     ]
    }
   ],
   "source": [
    "printNames(\"Mike\",\"Jack\",\"Sack\",\"Mac\")#Pass 4 parameters"
   ]
  },
  {
   "cell_type": "code",
   "execution_count": 8,
   "metadata": {},
   "outputs": [
    {
     "name": "stdout",
     "output_type": "stream",
     "text": [
      "Lila\n",
      "Jameela\n",
      "Lola\n"
     ]
    }
   ],
   "source": [
    "printNames(\"Lila\",\"Jameela\",\"Lola\")#Pass 3 parameters"
   ]
  },
  {
   "cell_type": "code",
   "execution_count": 9,
   "metadata": {},
   "outputs": [
    {
     "name": "stdout",
     "output_type": "stream",
     "text": [
      "Inside the function x= 10\n",
      "After function call z= 10\n",
      "Outside the function x= 5\n"
     ]
    }
   ],
   "source": [
    "#SCOPE\n",
    "    # Same variable x can be defined as both local and global variable without conflict\n",
    "def checkScope():\n",
    "    x=10 # local variable x\n",
    "    print('Inside the function x=',x)\n",
    "    return x #returns 10\n",
    "\n",
    "x=5 #Global Variable x\n",
    "z=checkScope() \n",
    "print(\"After function call z=\",z) # z is assigned with 10 by the function call\n",
    "print('Outside the function x=',x)#Global variable x is not changed"
   ]
  },
  {
   "cell_type": "code",
   "execution_count": 10,
   "metadata": {},
   "outputs": [
    {
     "name": "stdout",
     "output_type": "stream",
     "text": [
      "Inside the function x= 5\n",
      "After function call z= 10\n",
      "Outside the function x= 5\n"
     ]
    }
   ],
   "source": [
    "#SCOPE\n",
    "    # x defined as global variable\n",
    "def checkScopeAgain():\n",
    "    print('Inside the function x=',x)# local variable x is not defined.So take value of global variable x\n",
    "    y=x+5\n",
    "    return y #returns 5+5=10\n",
    "\n",
    "x=5 #Global Variable x\n",
    "z=checkScopeAgain() \n",
    "print(\"After function call z=\",z) # z is assigned with 10 by the function call\n",
    "print('Outside the function x=',x)#Global variable x "
   ]
  },
  {
   "cell_type": "code",
   "execution_count": 11,
   "metadata": {},
   "outputs": [
    {
     "name": "stdout",
     "output_type": "stream",
     "text": [
      "20\n"
     ]
    }
   ],
   "source": [
    "#Define a global variable inside the function.\n",
    "def globalEg():\n",
    "    global gv # global variable.So its scope is also outside the function.\n",
    "    gv=10\n",
    "    \n",
    "globalEg()\n",
    "gv=gv+10\n",
    "print(gv) # accessing a global variable defined inside the function"
   ]
  },
  {
   "cell_type": "code",
   "execution_count": 12,
   "metadata": {},
   "outputs": [],
   "source": [
    "# A multipurpose function\n",
    "def concat(a,b):\n",
    "    return (a+b)"
   ]
  },
  {
   "cell_type": "code",
   "execution_count": 13,
   "metadata": {},
   "outputs": [
    {
     "data": {
      "text/plain": [
       "5"
      ]
     },
     "execution_count": 13,
     "metadata": {},
     "output_type": "execute_result"
    }
   ],
   "source": [
    "concat(2,3) #Finds sum"
   ]
  },
  {
   "cell_type": "code",
   "execution_count": 14,
   "metadata": {},
   "outputs": [
    {
     "data": {
      "text/plain": [
       "'Good Morning'"
      ]
     },
     "execution_count": 14,
     "metadata": {},
     "output_type": "execute_result"
    }
   ],
   "source": [
    "concat('Good ','Morning') #Concatenate strings"
   ]
  },
  {
   "cell_type": "code",
   "execution_count": 15,
   "metadata": {},
   "outputs": [
    {
     "data": {
      "text/plain": [
       "[2, 3, 4, 5, 6]"
      ]
     },
     "execution_count": 15,
     "metadata": {},
     "output_type": "execute_result"
    }
   ],
   "source": [
    "concat([2,3],[4,5,6]) #Concatenate lists"
   ]
  },
  {
   "cell_type": "code",
   "execution_count": null,
   "metadata": {},
   "outputs": [],
   "source": []
  }
 ],
 "metadata": {
  "kernelspec": {
   "display_name": "Python 3",
   "language": "python",
   "name": "python3"
  },
  "language_info": {
   "codemirror_mode": {
    "name": "ipython",
    "version": 3
   },
   "file_extension": ".py",
   "mimetype": "text/x-python",
   "name": "python",
   "nbconvert_exporter": "python",
   "pygments_lexer": "ipython3",
   "version": "3.7.0"
  }
 },
 "nbformat": 4,
 "nbformat_minor": 2
}
