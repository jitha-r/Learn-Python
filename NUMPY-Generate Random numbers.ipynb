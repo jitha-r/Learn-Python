{
 "cells": [
  {
   "cell_type": "code",
   "execution_count": 1,
   "metadata": {},
   "outputs": [],
   "source": [
    "# Here we will see\n",
    "    # How to generate random numbers\n",
    "    # Stores those numbers in a text file\n",
    "    # Convert random numbers into a dataframe\n",
    "    # Store the dataframe values in a CSV file"
   ]
  },
  {
   "cell_type": "code",
   "execution_count": 2,
   "metadata": {},
   "outputs": [],
   "source": [
    "import numpy as np"
   ]
  },
  {
   "cell_type": "code",
   "execution_count": 3,
   "metadata": {},
   "outputs": [
    {
     "data": {
      "text/plain": [
       "array([2.07, 2.67, 2.22, 2.63, 2.41, 2.19, 2.86, 2.45, 2.39, 2.43, 2.18,\n",
       "       2.46, 2.92, 2.63, 2.67, 2.24, 2.42, 2.47, 2.56, 2.94, 2.35, 2.59,\n",
       "       2.18, 2.59, 2.25, 2.61, 2.21, 2.67, 2.75, 2.65])"
      ]
     },
     "execution_count": 3,
     "metadata": {},
     "output_type": "execute_result"
    }
   ],
   "source": [
    "#RANDOM.NORMAL()\n",
    "    # Can Generate Data using random.normal()\n",
    "    # First Parameter : Mean\n",
    "    # Second Parameter : Standard Deviation\n",
    "    # Third Parameter : Number of samples\n",
    "\n",
    "height=np.round(np.random.normal(2.5,.25,30),2) # Mean: 2.5, Std dev:.25, Number samples generated:30\n",
    "height "
   ]
  },
  {
   "cell_type": "code",
   "execution_count": 4,
   "metadata": {},
   "outputs": [
    {
     "data": {
      "text/plain": [
       "2.49"
      ]
     },
     "execution_count": 4,
     "metadata": {},
     "output_type": "execute_result"
    }
   ],
   "source": [
    "# Verifying the mean with the samples generated. \n",
    "np.round(np.mean(height),2)"
   ]
  },
  {
   "cell_type": "code",
   "execution_count": 5,
   "metadata": {},
   "outputs": [
    {
     "data": {
      "text/plain": [
       "array([49.58, 48.99, 42.52, 60.61, 49.  , 53.81, 52.6 , 57.02, 47.48,\n",
       "       63.28, 43.8 , 54.23, 52.66, 50.32, 52.19, 52.56, 44.31, 43.91,\n",
       "       53.07, 47.33, 51.61, 46.88, 50.03, 56.61, 59.18, 47.59, 44.28,\n",
       "       51.77, 43.98, 49.61])"
      ]
     },
     "execution_count": 5,
     "metadata": {},
     "output_type": "execute_result"
    }
   ],
   "source": [
    "weight=np.round(np.random.normal(50.5,4.25,30),2) # Mean: 3.5, Std dev:1.25, Number samples generated:30\n",
    "weight "
   ]
  },
  {
   "cell_type": "code",
   "execution_count": 6,
   "metadata": {},
   "outputs": [
    {
     "data": {
      "text/plain": [
       "array([[ 2.07, 49.58],\n",
       "       [ 2.67, 48.99],\n",
       "       [ 2.22, 42.52],\n",
       "       [ 2.63, 60.61],\n",
       "       [ 2.41, 49.  ],\n",
       "       [ 2.19, 53.81],\n",
       "       [ 2.86, 52.6 ],\n",
       "       [ 2.45, 57.02],\n",
       "       [ 2.39, 47.48],\n",
       "       [ 2.43, 63.28],\n",
       "       [ 2.18, 43.8 ],\n",
       "       [ 2.46, 54.23],\n",
       "       [ 2.92, 52.66],\n",
       "       [ 2.63, 50.32],\n",
       "       [ 2.67, 52.19],\n",
       "       [ 2.24, 52.56],\n",
       "       [ 2.42, 44.31],\n",
       "       [ 2.47, 43.91],\n",
       "       [ 2.56, 53.07],\n",
       "       [ 2.94, 47.33],\n",
       "       [ 2.35, 51.61],\n",
       "       [ 2.59, 46.88],\n",
       "       [ 2.18, 50.03],\n",
       "       [ 2.59, 56.61],\n",
       "       [ 2.25, 59.18],\n",
       "       [ 2.61, 47.59],\n",
       "       [ 2.21, 44.28],\n",
       "       [ 2.67, 51.77],\n",
       "       [ 2.75, 43.98],\n",
       "       [ 2.65, 49.61]])"
      ]
     },
     "execution_count": 6,
     "metadata": {},
     "output_type": "execute_result"
    }
   ],
   "source": [
    "# putting together the two generated sets  together\n",
    "people=np.column_stack((height,weight))\n",
    "people"
   ]
  },
  {
   "cell_type": "code",
   "execution_count": 7,
   "metadata": {},
   "outputs": [],
   "source": [
    "# Saving randomly generated data 'people' to a text file\n",
    "np.savetxt('People.txt',people) # Copy file path here"
   ]
  },
  {
   "cell_type": "code",
   "execution_count": 8,
   "metadata": {},
   "outputs": [],
   "source": [
    "import pandas as pd\n"
   ]
  },
  {
   "cell_type": "code",
   "execution_count": 9,
   "metadata": {},
   "outputs": [
    {
     "data": {
      "text/html": [
       "<div>\n",
       "<style scoped>\n",
       "    .dataframe tbody tr th:only-of-type {\n",
       "        vertical-align: middle;\n",
       "    }\n",
       "\n",
       "    .dataframe tbody tr th {\n",
       "        vertical-align: top;\n",
       "    }\n",
       "\n",
       "    .dataframe thead th {\n",
       "        text-align: right;\n",
       "    }\n",
       "</style>\n",
       "<table border=\"1\" class=\"dataframe\">\n",
       "  <thead>\n",
       "    <tr style=\"text-align: right;\">\n",
       "      <th></th>\n",
       "      <th>0</th>\n",
       "      <th>1</th>\n",
       "    </tr>\n",
       "  </thead>\n",
       "  <tbody>\n",
       "    <tr>\n",
       "      <th>0</th>\n",
       "      <td>2.07</td>\n",
       "      <td>49.58</td>\n",
       "    </tr>\n",
       "    <tr>\n",
       "      <th>1</th>\n",
       "      <td>2.67</td>\n",
       "      <td>48.99</td>\n",
       "    </tr>\n",
       "    <tr>\n",
       "      <th>2</th>\n",
       "      <td>2.22</td>\n",
       "      <td>42.52</td>\n",
       "    </tr>\n",
       "    <tr>\n",
       "      <th>3</th>\n",
       "      <td>2.63</td>\n",
       "      <td>60.61</td>\n",
       "    </tr>\n",
       "    <tr>\n",
       "      <th>4</th>\n",
       "      <td>2.41</td>\n",
       "      <td>49.00</td>\n",
       "    </tr>\n",
       "  </tbody>\n",
       "</table>\n",
       "</div>"
      ],
      "text/plain": [
       "      0      1\n",
       "0  2.07  49.58\n",
       "1  2.67  48.99\n",
       "2  2.22  42.52\n",
       "3  2.63  60.61\n",
       "4  2.41  49.00"
      ]
     },
     "execution_count": 9,
     "metadata": {},
     "output_type": "execute_result"
    }
   ],
   "source": [
    "# Convert 'people' to a dataframe\n",
    "df=pd.DataFrame(people)\n",
    "df.head()"
   ]
  },
  {
   "cell_type": "code",
   "execution_count": 10,
   "metadata": {},
   "outputs": [],
   "source": [
    "#Storing dataframe to CSV\n",
    "df.to_csv(\"/People.csv\") # Copy filepath here"
   ]
  },
  {
   "cell_type": "code",
   "execution_count": null,
   "metadata": {},
   "outputs": [],
   "source": []
  }
 ],
 "metadata": {
  "kernelspec": {
   "display_name": "Python 3",
   "language": "python",
   "name": "python3"
  },
  "language_info": {
   "codemirror_mode": {
    "name": "ipython",
    "version": 3
   },
   "file_extension": ".py",
   "mimetype": "text/x-python",
   "name": "python",
   "nbconvert_exporter": "python",
   "pygments_lexer": "ipython3",
   "version": "3.7.0"
  }
 },
 "nbformat": 4,
 "nbformat_minor": 2
}
