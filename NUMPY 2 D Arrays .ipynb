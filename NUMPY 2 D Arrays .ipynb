{
 "cells": [
  {
   "cell_type": "code",
   "execution_count": 2,
   "metadata": {},
   "outputs": [],
   "source": [
    "#NUMPY\n",
    "    #Numpy is a library for scientific computing.\n",
    "    # Faster and requires less memory.\n",
    "import numpy as np"
   ]
  },
  {
   "cell_type": "code",
   "execution_count": 3,
   "metadata": {},
   "outputs": [
    {
     "data": {
      "text/plain": [
       "array([[1, 2, 3],\n",
       "       [4, 5, 6],\n",
       "       [7, 8, 9],\n",
       "       [0, 3, 2]])"
      ]
     },
     "execution_count": 3,
     "metadata": {},
     "output_type": "execute_result"
    }
   ],
   "source": [
    "t=np.array([[1,2,3],[4,5,6],[7,8,9],[0,3,2]]) # 2-dimensional numpy array t\n",
    "t"
   ]
  },
  {
   "cell_type": "code",
   "execution_count": 4,
   "metadata": {},
   "outputs": [
    {
     "data": {
      "text/plain": [
       "2"
      ]
     },
     "execution_count": 4,
     "metadata": {},
     "output_type": "execute_result"
    }
   ],
   "source": [
    "# Getting dimension of the array\n",
    "t.ndim"
   ]
  },
  {
   "cell_type": "code",
   "execution_count": 5,
   "metadata": {},
   "outputs": [
    {
     "data": {
      "text/plain": [
       "(4, 3)"
      ]
     },
     "execution_count": 5,
     "metadata": {},
     "output_type": "execute_result"
    }
   ],
   "source": [
    "# Getting the number of rows and number of elements in each row\n",
    "t.shape"
   ]
  },
  {
   "cell_type": "code",
   "execution_count": 6,
   "metadata": {},
   "outputs": [
    {
     "data": {
      "text/plain": [
       "12"
      ]
     },
     "execution_count": 6,
     "metadata": {},
     "output_type": "execute_result"
    }
   ],
   "source": [
    "#Total number of elements\n",
    "t.size"
   ]
  },
  {
   "cell_type": "code",
   "execution_count": 7,
   "metadata": {},
   "outputs": [
    {
     "data": {
      "text/plain": [
       "1"
      ]
     },
     "execution_count": 7,
     "metadata": {},
     "output_type": "execute_result"
    }
   ],
   "source": [
    "#Accessing the elements\n",
    "t[0][0] # First element in first row"
   ]
  },
  {
   "cell_type": "code",
   "execution_count": 8,
   "metadata": {},
   "outputs": [
    {
     "data": {
      "text/plain": [
       "6"
      ]
     },
     "execution_count": 8,
     "metadata": {},
     "output_type": "execute_result"
    }
   ],
   "source": [
    "#Accessing the elements\n",
    "t[1][2] # Third element in second row"
   ]
  },
  {
   "cell_type": "code",
   "execution_count": 9,
   "metadata": {},
   "outputs": [
    {
     "data": {
      "text/plain": [
       "array([1, 2])"
      ]
     },
     "execution_count": 9,
     "metadata": {},
     "output_type": "execute_result"
    }
   ],
   "source": [
    "#Slicing\n",
    "t[0,0:2] # First 2 columns in first row"
   ]
  },
  {
   "cell_type": "code",
   "execution_count": 10,
   "metadata": {},
   "outputs": [
    {
     "data": {
      "text/plain": [
       "array([1, 4])"
      ]
     },
     "execution_count": 10,
     "metadata": {},
     "output_type": "execute_result"
    }
   ],
   "source": [
    "#Slicing\n",
    "t[0:2,0] # First column in first two rows"
   ]
  },
  {
   "cell_type": "code",
   "execution_count": 11,
   "metadata": {},
   "outputs": [
    {
     "name": "stdout",
     "output_type": "stream",
     "text": [
      "a= [[1 2 3]\n",
      " [5 3 2]]\n",
      "\n",
      "b= [[0 1 2]\n",
      " [1 3 4]]\n",
      "\n",
      "Sum a+b= [[1 3 5]\n",
      " [6 6 6]]\n"
     ]
    }
   ],
   "source": [
    "# Addition of 2 D Arrays\n",
    "    #Similar to matrix addition\n",
    "a=np.array([[1,2,3],[5,3,2]])\n",
    "b=np.array([[0,1,2],[1,3,4]])\n",
    "c=a+b\n",
    "print('a=',a)\n",
    "print('\\nb=',b)\n",
    "print('\\nSum a+b=',c)\n"
   ]
  },
  {
   "cell_type": "code",
   "execution_count": 12,
   "metadata": {},
   "outputs": [
    {
     "name": "stdout",
     "output_type": "stream",
     "text": [
      "d= [[1 3 2]\n",
      " [4 5 6]]\n",
      "\n",
      "2*d= [[ 2  6  4]\n",
      " [ 8 10 12]]\n"
     ]
    }
   ],
   "source": [
    "#Multiplication by a scalar\n",
    "    # Each element of the array is multiplied by the scalar\n",
    "    # Result is the array with same size.\n",
    "d=np.array([[1,3,2],[4,5,6]])\n",
    "e=2*d\n",
    "print('d=',d)\n",
    "print('\\n2*d=',e)"
   ]
  },
  {
   "cell_type": "code",
   "execution_count": 13,
   "metadata": {},
   "outputs": [
    {
     "name": "stdout",
     "output_type": "stream",
     "text": [
      "a= [[1 2 3]\n",
      " [5 3 2]]\n",
      "\n",
      "b= [[0 1 2]\n",
      " [1 3 4]]\n",
      "\n",
      "Hadamard Product a*b= [[0 2 6]\n",
      " [5 9 8]]\n"
     ]
    }
   ],
   "source": [
    "#Hadamard product\n",
    "    # Multiplying each element in the same position of both matrices\n",
    "a=np.array([[1,2,3],[5,3,2]])\n",
    "b=np.array([[0,1,2],[1,3,4]])\n",
    "c=a*b\n",
    "print('a=',a)\n",
    "print('\\nb=',b)\n",
    "print('\\nHadamard Product a*b=',c)"
   ]
  },
  {
   "cell_type": "code",
   "execution_count": 14,
   "metadata": {},
   "outputs": [
    {
     "name": "stdout",
     "output_type": "stream",
     "text": [
      "a= [[1 2 3]\n",
      " [5 3 2]]\n",
      "\n",
      "b= [[0 1]\n",
      " [1 3]\n",
      " [4 5]]\n",
      "\n",
      " Product of a and b= [[14 22]\n",
      " [11 24]]\n"
     ]
    }
   ],
   "source": [
    "# Matrix Multiplication\n",
    "    # Number of columns in the first matrix should be equal to number of rows in the second matrix.\n",
    "    # m*n matrix multiplied by n*p matrix. \n",
    "a=np.array([[1,2,3],[5,3,2]]) # 2*3 matrix\n",
    "b=np.array([[0,1],[1,3],[4,5]]) # 3*2 matrix\n",
    "c=np.dot(a,b)\n",
    "print('a=',a)\n",
    "print('\\nb=',b)\n",
    "print('\\n Product of a and b=',c)"
   ]
  },
  {
   "cell_type": "code",
   "execution_count": null,
   "metadata": {},
   "outputs": [],
   "source": []
  }
 ],
 "metadata": {
  "kernelspec": {
   "display_name": "Python 3",
   "language": "python",
   "name": "python3"
  },
  "language_info": {
   "codemirror_mode": {
    "name": "ipython",
    "version": 3
   },
   "file_extension": ".py",
   "mimetype": "text/x-python",
   "name": "python",
   "nbconvert_exporter": "python",
   "pygments_lexer": "ipython3",
   "version": "3.7.0"
  }
 },
 "nbformat": 4,
 "nbformat_minor": 2
}
